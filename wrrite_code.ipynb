{
 "cells": [
  {
   "cell_type": "code",
   "execution_count": 15,
   "id": "bea6d271",
   "metadata": {},
   "outputs": [
    {
     "name": "stdout",
     "output_type": "stream",
     "text": [
      "Overwriting main_page.py\n"
     ]
    }
   ],
   "source": [
    "%%writefile main_page.py\n",
    "import streamlit as st\n",
    "import pandas as pd\n",
    "import os\n",
    "from datetime import datetime\n",
    "import seaborn as sns\n",
    "from pathlib import Path\n",
    "from pandas_profiling import ProfileReport\n",
    "from pandas_profiling.utils.cache import cache_zipped_file\n",
    "from streamlit_pandas_profiling import st_profile_report\n",
    "\n",
    "\n",
    "st.markdown(\"# Page 1\")\n",
    "st.sidebar.markdown(\"# Page 1\")\n",
    "st.write('KPMG Transastion Data Explore')\n",
    "\n",
    "Transactions = pd.read_excel('KPMG_VI_New_raw_data_update_final.xlsx',sheet_name= 'Transactions')\n",
    "Transactions.columns = Transactions.iloc[0,:]\n",
    "Transactions  = Transactions.iloc[1:,:]\n",
    "Transactions.dropna(subset=['product_first_sold_date'], inplace=True)\n",
    "Transactions.product_first_sold_date = Transactions.product_first_sold_date.apply(lambda x: datetime.fromtimestamp(x))\n",
    "Transactions.transaction_date = Transactions.transaction_date.astype('string')\n",
    "Transactions['transaction_month'] = Transactions.transaction_date.apply(lambda x: x[5:7])\n",
    "\n",
    "profile = ProfileReport(\n",
    "    Transactions, title=\"Profile Report of the Transaction Sheet\", explorative=True\n",
    ")\n",
    "st_profile_report(profile)\n",
    "#profile.to_file(Path(\"uci_bank_marketing_report.html\"))\n",
    "\n",
    "# brand count\n",
    "st.write('')\n",
    "Tran_counts = Transactions.groupby(['brand'],as_index=False)['list_price'].count()\n",
    "Tran_counts.columns = ['brand', 'count']\n",
    "# brand revenue\n",
    "Tran_brand = Transactions.groupby(['brand'],as_index=False)[['list_price','standard_cost']].sum()\n",
    "Tran_brand['profit'] = Tran_brand['list_price'] - Tran_brand['standard_cost']\n",
    "Tran_brand = Tran_brand.merge(Tran_counts, on = ['brand'])\n",
    "Tran_brand['list_price_avg'] = Tran_brand['list_price'] / Tran_brand['count']\n",
    "Tran_brand['profit_avg'] = Tran_brand['profit'] / Tran_brand['count']\n",
    "Tran_brand['profit_rate'] = 1- Tran_brand['standard_cost']/Tran_brand['list_price']\n",
    "\n",
    "Tran_brand"
   ]
  },
  {
   "cell_type": "code",
   "execution_count": 26,
   "id": "46ebd5c1",
   "metadata": {},
   "outputs": [
    {
     "name": "stdout",
     "output_type": "stream",
     "text": [
      "Overwriting pages/page_2.py\n"
     ]
    }
   ],
   "source": [
    "%%writefile pages/page_2.py\n",
    "import streamlit as st\n",
    "import pandas as pd\n",
    "from datetime import datetime\n",
    "import matplotlib.pyplot as plt\n",
    "st.markdown(\"# Page 2 ❄️\")\n",
    "st.sidebar.markdown(\"Page 2\")\n",
    "\n",
    "Transactions = pd.read_excel('KPMG_VI_New_raw_data_update_final.xlsx',sheet_name= 'Transactions')\n",
    "Transactions.columns = Transactions.iloc[0,:]\n",
    "Transactions  = Transactions.iloc[1:,:]\n",
    "Transactions.dropna(subset=['product_first_sold_date'], inplace=True)\n",
    "Transactions.product_first_sold_date = Transactions.product_first_sold_date.apply(lambda x: datetime.fromtimestamp(x))\n",
    "Transactions.transaction_date = Transactions.transaction_date.astype('string')\n",
    "Transactions['transaction_month'] = Transactions.transaction_date.apply(lambda x: x[5:7])\n",
    "# brand count\n",
    "st.write('- Each brand has different marketing strategy and target populations, their sales statistics are hence different.')\n",
    "st.write('- Understanding these difference is important when organizing any business activities.')\n",
    "\n",
    "Tran_counts = Transactions.groupby(['brand'],as_index=False)['list_price'].count()\n",
    "Tran_counts.columns = ['brand', 'count']\n",
    "# brand revenue\n",
    "Tran_brand = Transactions.groupby(['brand'],as_index=False)[['list_price','standard_cost']].sum()\n",
    "Tran_brand['profit'] = Tran_brand['list_price'] - Tran_brand['standard_cost']\n",
    "Tran_brand = Tran_brand.merge(Tran_counts, on = ['brand'])\n",
    "Tran_brand['list_price_avg'] = Tran_brand['list_price'] / Tran_brand['count']\n",
    "Tran_brand['profit_avg'] = Tran_brand['profit'] / Tran_brand['count']\n",
    "Tran_brand['profit_rate'] = 1- Tran_brand['standard_cost']/Tran_brand['list_price']\n",
    "Tran_brand\n",
    "\n",
    "# Customer payment count\n",
    "CustomerAddress = pd.read_excel('KPMG_VI_New_raw_data_update_final.xlsx',sheet_name= 'CustomerAddress')\n",
    "CustomerAddress.columns = CustomerAddress.iloc[0,:]\n",
    "CustomerAddress  = CustomerAddress.iloc[1:,:]\n",
    "Customer_counts = Transactions.groupby(['customer_id'],as_index=False)['list_price'].count()\n",
    "Customer_counts.columns = ['customer_id', 'bill_count']\n",
    "# Customer payment revenue\n",
    "Cutomer_brand = Transactions.groupby(['customer_id'],as_index=False)[['list_price','standard_cost']].sum()\n",
    "Cutomer_brand['profit'] = Cutomer_brand['list_price'] - Cutomer_brand['standard_cost']\n",
    "Cutomer_brand = Cutomer_brand.merge(Customer_counts, on = ['customer_id'])\n",
    "Cutomer_brand['list_price_avg'] = Cutomer_brand['list_price'] / Cutomer_brand['bill_count']\n",
    "Cutomer_brand['profit_avg'] = Cutomer_brand['profit'] / Cutomer_brand['bill_count']\n",
    "Cutomer_brand['profit_rate'] = 1- Cutomer_brand['standard_cost']/Cutomer_brand['list_price']\n",
    "Cutomer_brand = Cutomer_brand.merge(CustomerAddress[['customer_id', 'property_valuation']], on = 'customer_id')\n",
    "st.write('- Pay closely attention to customer purchase frequency as we want to keep our customers and expand their consumptions.')\n",
    "fig, ax = plt.subplots(figsize = (10,6))\n",
    "Cutomer_brand.hist(['bill_count'] )\n",
    "ax.set_title('')\n",
    "st.title('Purchase Frequency Counts')\n",
    "st.pyplot(fig)\n",
    "\n",
    "fig1, ax1 = plt.subplots(figsize = (10,6))\n",
    "Cutomer_brand.plot.scatter(['list_price_avg'], ['profit_avg'], \n",
    "                           figsize = (16,9),\n",
    "                           c = Cutomer_brand.property_valuation,\n",
    "                           ax = ax1\n",
    "                           )\n",
    "ax1.set_title('')\n",
    "st.title('Price versus Profit')\n",
    "st.pyplot(fig1)"
   ]
  },
  {
   "cell_type": "code",
   "execution_count": 2,
   "id": "41050272",
   "metadata": {},
   "outputs": [
    {
     "name": "stdout",
     "output_type": "stream",
     "text": [
      "Overwriting pages/page_3.py\n"
     ]
    }
   ],
   "source": [
    "%%writefile pages/page_3.py\n",
    "import streamlit as st\n",
    "\n",
    "st.markdown(\"# Page 3 🎉\")\n",
    "st.sidebar.markdown(\"# Page 3 🎉\")"
   ]
  },
  {
   "cell_type": "code",
   "execution_count": null,
   "id": "7d3f1273",
   "metadata": {},
   "outputs": [],
   "source": [
    "%%writefile requirements.txt\n",
    "pip\n",
    "pandas-profiling\n",
    "numpy\n",
    "pandas\n",
    "matplotlib\n",
    "seaborn\n",
    "streamlit-pandas-profiling\n",
    "openpyxl"
   ]
  },
  {
   "cell_type": "code",
   "execution_count": 11,
   "id": "47ae19dc",
   "metadata": {},
   "outputs": [
    {
     "name": "stdout",
     "output_type": "stream",
     "text": [
      "Overwriting environment.yml\n"
     ]
    }
   ],
   "source": [
    "%%writefile environment.yml\n",
    "name: STEnv\n",
    "dependencies:\n",
    "  - pandas-profiling\n",
    "  - numpy\n",
    "  - pandas\n",
    "  - matplotlib\n",
    "  - seaborn\n",
    "  - openpyxl\n",
    "  - pi\n",
    "  - pip:\n",
    "    - streamlit-pandas-profiling\n"
   ]
  },
  {
   "cell_type": "code",
   "execution_count": 2,
   "id": "19ba70ff",
   "metadata": {},
   "outputs": [
    {
     "name": "stderr",
     "output_type": "stream",
     "text": [
      "'streamlit' is not recognized as an internal or external command,\n",
      "operable program or batch file.\n"
     ]
    }
   ],
   "source": [
    "!streamlit run main_page.py"
   ]
  },
  {
   "cell_type": "code",
   "execution_count": 10,
   "id": "dd3f6b7c",
   "metadata": {},
   "outputs": [
    {
     "name": "stdout",
     "output_type": "stream",
     "text": [
      "Requirement already satisfied: streamlit-pandas-profiling in /Users/ziwei/miniconda3/lib/python3.10/site-packages (0.1.3)\n",
      "Requirement already satisfied: pandas-profiling in /Users/ziwei/miniconda3/lib/python3.10/site-packages (from streamlit-pandas-profiling) (3.6.6)\n",
      "Requirement already satisfied: streamlit>=0.63 in /Users/ziwei/miniconda3/lib/python3.10/site-packages (from streamlit-pandas-profiling) (1.17.0)\n",
      "Requirement already satisfied: gitpython!=3.1.19 in /Users/ziwei/miniconda3/lib/python3.10/site-packages (from streamlit>=0.63->streamlit-pandas-profiling) (3.1.30)\n",
      "Requirement already satisfied: validators>=0.2 in /Users/ziwei/miniconda3/lib/python3.10/site-packages (from streamlit>=0.63->streamlit-pandas-profiling) (0.20.0)\n",
      "Requirement already satisfied: rich>=10.11.0 in /Users/ziwei/miniconda3/lib/python3.10/site-packages (from streamlit>=0.63->streamlit-pandas-profiling) (13.3.1)\n",
      "Requirement already satisfied: importlib-metadata>=1.4 in /Users/ziwei/miniconda3/lib/python3.10/site-packages (from streamlit>=0.63->streamlit-pandas-profiling) (6.0.0)\n",
      "Requirement already satisfied: pympler>=0.9 in /Users/ziwei/miniconda3/lib/python3.10/site-packages (from streamlit>=0.63->streamlit-pandas-profiling) (1.0.1)\n",
      "Requirement already satisfied: tornado>=5.0 in /Users/ziwei/miniconda3/lib/python3.10/site-packages (from streamlit>=0.63->streamlit-pandas-profiling) (6.2)\n",
      "Requirement already satisfied: altair>=3.2.0 in /Users/ziwei/miniconda3/lib/python3.10/site-packages (from streamlit>=0.63->streamlit-pandas-profiling) (4.2.2)\n",
      "Requirement already satisfied: tzlocal>=1.1 in /Users/ziwei/miniconda3/lib/python3.10/site-packages (from streamlit>=0.63->streamlit-pandas-profiling) (4.2)\n",
      "Requirement already satisfied: pyarrow>=4.0 in /Users/ziwei/miniconda3/lib/python3.10/site-packages (from streamlit>=0.63->streamlit-pandas-profiling) (11.0.0)\n",
      "Requirement already satisfied: packaging>=14.1 in /Users/ziwei/miniconda3/lib/python3.10/site-packages (from streamlit>=0.63->streamlit-pandas-profiling) (23.0)\n",
      "Requirement already satisfied: pandas>=0.21.0 in /Users/ziwei/miniconda3/lib/python3.10/site-packages (from streamlit>=0.63->streamlit-pandas-profiling) (1.5.3)\n",
      "Requirement already satisfied: pillow>=6.2.0 in /Users/ziwei/miniconda3/lib/python3.10/site-packages (from streamlit>=0.63->streamlit-pandas-profiling) (9.4.0)\n",
      "Requirement already satisfied: requests>=2.4 in /Users/ziwei/miniconda3/lib/python3.10/site-packages (from streamlit>=0.63->streamlit-pandas-profiling) (2.28.1)\n",
      "Requirement already satisfied: toml in /Users/ziwei/miniconda3/lib/python3.10/site-packages (from streamlit>=0.63->streamlit-pandas-profiling) (0.10.2)\n",
      "Requirement already satisfied: python-dateutil in /Users/ziwei/miniconda3/lib/python3.10/site-packages (from streamlit>=0.63->streamlit-pandas-profiling) (2.8.2)\n",
      "Requirement already satisfied: typing-extensions>=3.10.0.0 in /Users/ziwei/miniconda3/lib/python3.10/site-packages (from streamlit>=0.63->streamlit-pandas-profiling) (4.4.0)\n",
      "Requirement already satisfied: cachetools>=4.0 in /Users/ziwei/miniconda3/lib/python3.10/site-packages (from streamlit>=0.63->streamlit-pandas-profiling) (5.3.0)\n",
      "Requirement already satisfied: click>=7.0 in /Users/ziwei/miniconda3/lib/python3.10/site-packages (from streamlit>=0.63->streamlit-pandas-profiling) (8.1.3)\n",
      "Requirement already satisfied: numpy in /Users/ziwei/miniconda3/lib/python3.10/site-packages (from streamlit>=0.63->streamlit-pandas-profiling) (1.23.5)\n",
      "Requirement already satisfied: blinker>=1.0.0 in /Users/ziwei/miniconda3/lib/python3.10/site-packages (from streamlit>=0.63->streamlit-pandas-profiling) (1.5)\n",
      "Requirement already satisfied: semver in /Users/ziwei/miniconda3/lib/python3.10/site-packages (from streamlit>=0.63->streamlit-pandas-profiling) (2.13.0)\n",
      "Requirement already satisfied: protobuf<4,>=3.12 in /Users/ziwei/miniconda3/lib/python3.10/site-packages (from streamlit>=0.63->streamlit-pandas-profiling) (3.19.6)\n",
      "Requirement already satisfied: pydeck>=0.1.dev5 in /Users/ziwei/miniconda3/lib/python3.10/site-packages (from streamlit>=0.63->streamlit-pandas-profiling) (0.8.0)\n",
      "Requirement already satisfied: ydata-profiling in /Users/ziwei/miniconda3/lib/python3.10/site-packages (from pandas-profiling->streamlit-pandas-profiling) (4.0.0)\n",
      "Requirement already satisfied: jsonschema>=3.0 in /Users/ziwei/miniconda3/lib/python3.10/site-packages (from altair>=3.2.0->streamlit>=0.63->streamlit-pandas-profiling) (4.16.0)\n",
      "Requirement already satisfied: jinja2 in /Users/ziwei/miniconda3/lib/python3.10/site-packages (from altair>=3.2.0->streamlit>=0.63->streamlit-pandas-profiling) (3.1.2)\n",
      "Requirement already satisfied: toolz in /Users/ziwei/miniconda3/lib/python3.10/site-packages (from altair>=3.2.0->streamlit>=0.63->streamlit-pandas-profiling) (0.12.0)\n",
      "Requirement already satisfied: entrypoints in /Users/ziwei/miniconda3/lib/python3.10/site-packages (from altair>=3.2.0->streamlit>=0.63->streamlit-pandas-profiling) (0.4)\n",
      "Requirement already satisfied: gitdb<5,>=4.0.1 in /Users/ziwei/miniconda3/lib/python3.10/site-packages (from gitpython!=3.1.19->streamlit>=0.63->streamlit-pandas-profiling) (4.0.10)\n",
      "Requirement already satisfied: zipp>=0.5 in /Users/ziwei/miniconda3/lib/python3.10/site-packages (from importlib-metadata>=1.4->streamlit>=0.63->streamlit-pandas-profiling) (3.12.0)\n",
      "Requirement already satisfied: pytz>=2020.1 in /Users/ziwei/miniconda3/lib/python3.10/site-packages (from pandas>=0.21.0->streamlit>=0.63->streamlit-pandas-profiling) (2022.7.1)\n",
      "Requirement already satisfied: six>=1.5 in /Users/ziwei/miniconda3/lib/python3.10/site-packages (from python-dateutil->streamlit>=0.63->streamlit-pandas-profiling) (1.16.0)\n",
      "Requirement already satisfied: idna<4,>=2.5 in /Users/ziwei/miniconda3/lib/python3.10/site-packages (from requests>=2.4->streamlit>=0.63->streamlit-pandas-profiling) (3.4)\n",
      "Requirement already satisfied: certifi>=2017.4.17 in /Users/ziwei/miniconda3/lib/python3.10/site-packages (from requests>=2.4->streamlit>=0.63->streamlit-pandas-profiling) (2022.12.7)\n",
      "Requirement already satisfied: urllib3<1.27,>=1.21.1 in /Users/ziwei/miniconda3/lib/python3.10/site-packages (from requests>=2.4->streamlit>=0.63->streamlit-pandas-profiling) (1.26.13)\n",
      "Requirement already satisfied: charset-normalizer<3,>=2 in /Users/ziwei/miniconda3/lib/python3.10/site-packages (from requests>=2.4->streamlit>=0.63->streamlit-pandas-profiling) (2.0.4)\n",
      "Requirement already satisfied: markdown-it-py<3.0.0,>=2.1.0 in /Users/ziwei/miniconda3/lib/python3.10/site-packages (from rich>=10.11.0->streamlit>=0.63->streamlit-pandas-profiling) (2.1.0)\n",
      "Requirement already satisfied: pygments<3.0.0,>=2.14.0 in /Users/ziwei/miniconda3/lib/python3.10/site-packages (from rich>=10.11.0->streamlit>=0.63->streamlit-pandas-profiling) (2.14.0)\n",
      "Requirement already satisfied: pytz-deprecation-shim in /Users/ziwei/miniconda3/lib/python3.10/site-packages (from tzlocal>=1.1->streamlit>=0.63->streamlit-pandas-profiling) (0.1.0.post0)\n",
      "Requirement already satisfied: decorator>=3.4.0 in /Users/ziwei/miniconda3/lib/python3.10/site-packages (from validators>=0.2->streamlit>=0.63->streamlit-pandas-profiling) (5.1.1)\n",
      "Requirement already satisfied: statsmodels<0.14,>=0.13.2 in /Users/ziwei/miniconda3/lib/python3.10/site-packages (from ydata-profiling->pandas-profiling->streamlit-pandas-profiling) (0.13.5)\n",
      "Requirement already satisfied: pydantic<1.11,>=1.8.1 in /Users/ziwei/miniconda3/lib/python3.10/site-packages (from ydata-profiling->pandas-profiling->streamlit-pandas-profiling) (1.10.4)\n",
      "Requirement already satisfied: phik<0.13,>=0.11.1 in /Users/ziwei/miniconda3/lib/python3.10/site-packages (from ydata-profiling->pandas-profiling->streamlit-pandas-profiling) (0.12.3)\n",
      "Requirement already satisfied: multimethod<1.10,>=1.4 in /Users/ziwei/miniconda3/lib/python3.10/site-packages (from ydata-profiling->pandas-profiling->streamlit-pandas-profiling) (1.9.1)\n",
      "Requirement already satisfied: matplotlib<3.7,>=3.2 in /Users/ziwei/miniconda3/lib/python3.10/site-packages (from ydata-profiling->pandas-profiling->streamlit-pandas-profiling) (3.6.3)\n",
      "Requirement already satisfied: visions[type_image_path]==0.7.5 in /Users/ziwei/miniconda3/lib/python3.10/site-packages (from ydata-profiling->pandas-profiling->streamlit-pandas-profiling) (0.7.5)\n",
      "Requirement already satisfied: htmlmin==0.1.12 in /Users/ziwei/miniconda3/lib/python3.10/site-packages (from ydata-profiling->pandas-profiling->streamlit-pandas-profiling) (0.1.12)\n",
      "Requirement already satisfied: tqdm<4.65,>=4.48.2 in /Users/ziwei/miniconda3/lib/python3.10/site-packages (from ydata-profiling->pandas-profiling->streamlit-pandas-profiling) (4.64.1)\n",
      "Requirement already satisfied: PyYAML<6.1,>=5.0.0 in /Users/ziwei/miniconda3/lib/python3.10/site-packages (from ydata-profiling->pandas-profiling->streamlit-pandas-profiling) (6.0)\n",
      "Requirement already satisfied: scipy<1.10,>=1.4.1 in /Users/ziwei/miniconda3/lib/python3.10/site-packages (from ydata-profiling->pandas-profiling->streamlit-pandas-profiling) (1.9.3)\n",
      "Requirement already satisfied: seaborn<0.13,>=0.10.1 in /Users/ziwei/miniconda3/lib/python3.10/site-packages (from ydata-profiling->pandas-profiling->streamlit-pandas-profiling) (0.12.2)\n",
      "Requirement already satisfied: typeguard<2.14,>=2.13.2 in /Users/ziwei/miniconda3/lib/python3.10/site-packages (from ydata-profiling->pandas-profiling->streamlit-pandas-profiling) (2.13.3)\n",
      "Requirement already satisfied: tangled-up-in-unicode>=0.0.4 in /Users/ziwei/miniconda3/lib/python3.10/site-packages (from visions[type_image_path]==0.7.5->ydata-profiling->pandas-profiling->streamlit-pandas-profiling) (0.2.0)\n",
      "Requirement already satisfied: networkx>=2.4 in /Users/ziwei/miniconda3/lib/python3.10/site-packages (from visions[type_image_path]==0.7.5->ydata-profiling->pandas-profiling->streamlit-pandas-profiling) (3.0)\n",
      "Requirement already satisfied: attrs>=19.3.0 in /Users/ziwei/miniconda3/lib/python3.10/site-packages (from visions[type_image_path]==0.7.5->ydata-profiling->pandas-profiling->streamlit-pandas-profiling) (22.1.0)\n",
      "Requirement already satisfied: imagehash in /Users/ziwei/miniconda3/lib/python3.10/site-packages (from visions[type_image_path]==0.7.5->ydata-profiling->pandas-profiling->streamlit-pandas-profiling) (4.3.1)\n",
      "Requirement already satisfied: smmap<6,>=3.0.1 in /Users/ziwei/miniconda3/lib/python3.10/site-packages (from gitdb<5,>=4.0.1->gitpython!=3.1.19->streamlit>=0.63->streamlit-pandas-profiling) (5.0.0)\n",
      "Requirement already satisfied: MarkupSafe>=2.0 in /Users/ziwei/miniconda3/lib/python3.10/site-packages (from jinja2->altair>=3.2.0->streamlit>=0.63->streamlit-pandas-profiling) (2.1.2)\n",
      "Requirement already satisfied: pyrsistent!=0.17.0,!=0.17.1,!=0.17.2,>=0.14.0 in /Users/ziwei/miniconda3/lib/python3.10/site-packages (from jsonschema>=3.0->altair>=3.2.0->streamlit>=0.63->streamlit-pandas-profiling) (0.18.0)\n"
     ]
    },
    {
     "name": "stdout",
     "output_type": "stream",
     "text": [
      "Requirement already satisfied: mdurl~=0.1 in /Users/ziwei/miniconda3/lib/python3.10/site-packages (from markdown-it-py<3.0.0,>=2.1.0->rich>=10.11.0->streamlit>=0.63->streamlit-pandas-profiling) (0.1.2)\n",
      "Requirement already satisfied: kiwisolver>=1.0.1 in /Users/ziwei/miniconda3/lib/python3.10/site-packages (from matplotlib<3.7,>=3.2->ydata-profiling->pandas-profiling->streamlit-pandas-profiling) (1.4.4)\n",
      "Requirement already satisfied: fonttools>=4.22.0 in /Users/ziwei/miniconda3/lib/python3.10/site-packages (from matplotlib<3.7,>=3.2->ydata-profiling->pandas-profiling->streamlit-pandas-profiling) (4.38.0)\n",
      "Requirement already satisfied: pyparsing>=2.2.1 in /Users/ziwei/miniconda3/lib/python3.10/site-packages (from matplotlib<3.7,>=3.2->ydata-profiling->pandas-profiling->streamlit-pandas-profiling) (3.0.9)\n",
      "Requirement already satisfied: contourpy>=1.0.1 in /Users/ziwei/miniconda3/lib/python3.10/site-packages (from matplotlib<3.7,>=3.2->ydata-profiling->pandas-profiling->streamlit-pandas-profiling) (1.0.7)\n",
      "Requirement already satisfied: cycler>=0.10 in /Users/ziwei/miniconda3/lib/python3.10/site-packages (from matplotlib<3.7,>=3.2->ydata-profiling->pandas-profiling->streamlit-pandas-profiling) (0.11.0)\n",
      "Requirement already satisfied: joblib>=0.14.1 in /Users/ziwei/miniconda3/lib/python3.10/site-packages (from phik<0.13,>=0.11.1->ydata-profiling->pandas-profiling->streamlit-pandas-profiling) (1.2.0)\n",
      "Requirement already satisfied: patsy>=0.5.2 in /Users/ziwei/miniconda3/lib/python3.10/site-packages (from statsmodels<0.14,>=0.13.2->ydata-profiling->pandas-profiling->streamlit-pandas-profiling) (0.5.3)\n",
      "Requirement already satisfied: tzdata in /Users/ziwei/miniconda3/lib/python3.10/site-packages (from pytz-deprecation-shim->tzlocal>=1.1->streamlit>=0.63->streamlit-pandas-profiling) (2022.7)\n",
      "Requirement already satisfied: PyWavelets in /Users/ziwei/miniconda3/lib/python3.10/site-packages (from imagehash->visions[type_image_path]==0.7.5->ydata-profiling->pandas-profiling->streamlit-pandas-profiling) (1.4.1)\n"
     ]
    }
   ],
   "source": [
    "!pip install  streamlit-pandas-profiling"
   ]
  },
  {
   "cell_type": "code",
   "execution_count": null,
   "id": "ab1cada8",
   "metadata": {},
   "outputs": [],
   "source": []
  }
 ],
 "metadata": {
  "kernelspec": {
   "display_name": "Python 3 (ipykernel)",
   "language": "python",
   "name": "python3"
  },
  "language_info": {
   "codemirror_mode": {
    "name": "ipython",
    "version": 3
   },
   "file_extension": ".py",
   "mimetype": "text/x-python",
   "name": "python",
   "nbconvert_exporter": "python",
   "pygments_lexer": "ipython3",
   "version": "3.10.8"
  }
 },
 "nbformat": 4,
 "nbformat_minor": 5
}
