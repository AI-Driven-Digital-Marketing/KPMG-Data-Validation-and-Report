{
 "cells": [
  {
   "cell_type": "code",
   "execution_count": 14,
   "id": "3d209c03",
   "metadata": {},
   "outputs": [
    {
     "name": "stdout",
     "output_type": "stream",
     "text": [
      "Overwriting main_page.py\n"
     ]
    }
   ],
   "source": [
    "%%writefile main_page.py\n",
    "import streamlit as st\n",
    "\n",
    "st.markdown(\"# Main page 🎈\")\n",
    "st.sidebar.markdown(\"# Main page 🎈\")\n",
    "st.write('Work Space for INFO 7374')"
   ]
  },
  {
   "cell_type": "code",
   "execution_count": 12,
   "id": "57d84382",
   "metadata": {},
   "outputs": [
    {
     "name": "stdout",
     "output_type": "stream",
     "text": [
      "Overwriting pages/page_2.py\n"
     ]
    }
   ],
   "source": [
    "%%writefile pages/page_2.py\n",
    "import streamlit as st\n",
    "\n",
    "st.markdown(\"# Page 2 ❄️\")\n",
    "st.sidebar.markdown(\"# Page 2 ❄️\")\n"
   ]
  },
  {
   "cell_type": "code",
   "execution_count": 13,
   "id": "c1605f77",
   "metadata": {},
   "outputs": [
    {
     "name": "stdout",
     "output_type": "stream",
     "text": [
      "Overwriting pages/page_3.py\n"
     ]
    }
   ],
   "source": [
    "%%writefile pages/page_3.py\n",
    "import streamlit as st\n",
    "\n",
    "st.markdown(\"# Page 3 🎉\")\n",
    "st.sidebar.markdown(\"# Page 3 🎉\")"
   ]
  },
  {
   "cell_type": "code",
   "execution_count": 9,
   "id": "ac1b43cb",
   "metadata": {},
   "outputs": [
    {
     "name": "stdout",
     "output_type": "stream",
     "text": [
      "\u001b[0m\n",
      "\u001b[34m\u001b[1m  You can now view your Streamlit app in your browser.\u001b[0m\n",
      "\u001b[0m\n",
      "\u001b[34m  Local URL: \u001b[0m\u001b[1mhttp://localhost:8504\u001b[0m\n",
      "\u001b[34m  Network URL: \u001b[0m\u001b[1mhttp://10.110.170.131:8504\u001b[0m\n",
      "\u001b[0m\n",
      "\u001b[34m\u001b[1m  For better performance, install the Watchdog module:\u001b[0m\n",
      "\n",
      "  $ xcode-select --install\n",
      "  $ pip install watchdog\n",
      "            \u001b[0m\n",
      "^C\n",
      "\u001b[34m  Stopping...\u001b[0m\n"
     ]
    }
   ],
   "source": [
    "!streamlit run main_page.py"
   ]
  },
  {
   "cell_type": "code",
   "execution_count": null,
   "id": "c0187d78",
   "metadata": {},
   "outputs": [],
   "source": []
  }
 ],
 "metadata": {
  "kernelspec": {
   "display_name": "Python 3 (ipykernel)",
   "language": "python",
   "name": "python3"
  },
  "language_info": {
   "codemirror_mode": {
    "name": "ipython",
    "version": 3
   },
   "file_extension": ".py",
   "mimetype": "text/x-python",
   "name": "python",
   "nbconvert_exporter": "python",
   "pygments_lexer": "ipython3",
   "version": "3.10.8"
  }
 },
 "nbformat": 4,
 "nbformat_minor": 5
}
