{
 "cells": [
  {
   "cell_type": "code",
   "execution_count": 1,
   "id": "bea6d271",
   "metadata": {},
   "outputs": [
    {
     "name": "stdout",
     "output_type": "stream",
     "text": [
      "Writing main_page.py\n"
     ]
    }
   ],
   "source": [
    "%%writefile main_page.py\n",
    "import streamlit as st\n",
    "\n",
    "st.markdown(\"# Main page 🎈\")\n",
    "st.sidebar.markdown(\"# Main page 🎈\")\n"
   ]
  },
  {
   "cell_type": "code",
   "execution_count": 7,
   "id": "46ebd5c1",
   "metadata": {},
   "outputs": [
    {
     "name": "stdout",
     "output_type": "stream",
     "text": [
      "Writing pages/page_2.py\n"
     ]
    }
   ],
   "source": [
    "%%writefile pages/page_2.py\n",
    "import streamlit as st\n",
    "\n",
    "st.markdown(\"# Page 2 ❄️\")\n",
    "st.sidebar.markdown(\"# Page 2 ❄️\")"
   ]
  },
  {
   "cell_type": "code",
   "execution_count": 8,
   "id": "41050272",
   "metadata": {},
   "outputs": [
    {
     "name": "stdout",
     "output_type": "stream",
     "text": [
      "Overwriting pages/page_2.py\n"
     ]
    }
   ],
   "source": [
    "%%writefile pages/page_2.py\n",
    "import streamlit as st\n",
    "\n",
    "st.markdown(\"# Page 3 🎉\")\n",
    "st.sidebar.markdown(\"# Page 3 🎉\")"
   ]
  },
  {
   "cell_type": "code",
   "execution_count": null,
   "id": "19ba70ff",
   "metadata": {},
   "outputs": [
    {
     "name": "stdout",
     "output_type": "stream",
     "text": [
      "\u001b[0m\r\n",
      "\u001b[34m\u001b[1m  You can now view your Streamlit app in your browser.\u001b[0m\r\n",
      "\u001b[0m\r\n",
      "\u001b[34m  Local URL: \u001b[0m\u001b[1mhttp://localhost:8504\u001b[0m\r\n",
      "\u001b[34m  Network URL: \u001b[0m\u001b[1mhttp://10.110.170.131:8504\u001b[0m\r\n",
      "\u001b[0m\r\n",
      "\u001b[34m\u001b[1m  For better performance, install the Watchdog module:\u001b[0m\r\n",
      "\r\n",
      "  $ xcode-select --install\r\n",
      "  $ pip install watchdog\r\n",
      "            \u001b[0m\r\n"
     ]
    }
   ],
   "source": [
    "!streamlit run main_page.py"
   ]
  },
  {
   "cell_type": "code",
   "execution_count": null,
   "id": "eda630e6",
   "metadata": {},
   "outputs": [],
   "source": []
  }
 ],
 "metadata": {
  "kernelspec": {
   "display_name": "Python 3 (ipykernel)",
   "language": "python",
   "name": "python3"
  },
  "language_info": {
   "codemirror_mode": {
    "name": "ipython",
    "version": 3
   },
   "file_extension": ".py",
   "mimetype": "text/x-python",
   "name": "python",
   "nbconvert_exporter": "python",
   "pygments_lexer": "ipython3",
   "version": "3.10.8"
  }
 },
 "nbformat": 4,
 "nbformat_minor": 5
}
