{
 "cells": [
  {
   "cell_type": "code",
   "execution_count": 15,
   "id": "bea6d271",
   "metadata": {},
   "outputs": [
    {
     "name": "stdout",
     "output_type": "stream",
     "text": [
      "Overwriting main_page.py\n"
     ]
    }
   ],
   "source": [
    "%%writefile main_page.py\n",
    "import streamlit as st\n",
    "import pandas as pd\n",
    "import os\n",
    "from datetime import datetime\n",
    "import seaborn as sns\n",
    "from pathlib import Path\n",
    "from pandas_profiling import ProfileReport\n",
    "from pandas_profiling.utils.cache import cache_zipped_file\n",
    "from streamlit_pandas_profiling import st_profile_report\n",
    "\n",
    "\n",
    "st.markdown(\"# Page 1\")\n",
    "st.sidebar.markdown(\"# Page 1\")\n",
    "st.write('KPMG Transastion Data Explore')\n",
    "\n",
    "Transactions = pd.read_excel('KPMG_VI_New_raw_data_update_final.xlsx',sheet_name= 'Transactions')\n",
    "Transactions.columns = Transactions.iloc[0,:]\n",
    "Transactions  = Transactions.iloc[1:,:]\n",
    "Transactions.dropna(subset=['product_first_sold_date'], inplace=True)\n",
    "Transactions.product_first_sold_date = Transactions.product_first_sold_date.apply(lambda x: datetime.fromtimestamp(x))\n",
    "Transactions.transaction_date = Transactions.transaction_date.astype('string')\n",
    "Transactions['transaction_month'] = Transactions.transaction_date.apply(lambda x: x[5:7])\n",
    "\n",
    "profile = ProfileReport(\n",
    "    Transactions, title=\"Profile Report of the Transaction Sheet\", explorative=True\n",
    ")\n",
    "st_profile_report(profile)\n",
    "#profile.to_file(Path(\"uci_bank_marketing_report.html\"))\n",
    "\n",
    "# brand count\n",
    "st.write('')\n",
    "Tran_counts = Transactions.groupby(['brand'],as_index=False)['list_price'].count()\n",
    "Tran_counts.columns = ['brand', 'count']\n",
    "# brand revenue\n",
    "Tran_brand = Transactions.groupby(['brand'],as_index=False)[['list_price','standard_cost']].sum()\n",
    "Tran_brand['profit'] = Tran_brand['list_price'] - Tran_brand['standard_cost']\n",
    "Tran_brand = Tran_brand.merge(Tran_counts, on = ['brand'])\n",
    "Tran_brand['list_price_avg'] = Tran_brand['list_price'] / Tran_brand['count']\n",
    "Tran_brand['profit_avg'] = Tran_brand['profit'] / Tran_brand['count']\n",
    "Tran_brand['profit_rate'] = 1- Tran_brand['standard_cost']/Tran_brand['list_price']\n",
    "\n",
    "Tran_brand"
   ]
  },
  {
   "cell_type": "code",
   "execution_count": 26,
   "id": "46ebd5c1",
   "metadata": {},
   "outputs": [
    {
     "name": "stdout",
     "output_type": "stream",
     "text": [
      "Overwriting pages/page_2.py\n"
     ]
    }
   ],
   "source": [
    "%%writefile pages/page_2.py\n",
    "import streamlit as st\n",
    "import pandas as pd\n",
    "from datetime import datetime\n",
    "import matplotlib.pyplot as plt\n",
    "st.markdown(\"# Page 2 ❄️\")\n",
    "st.sidebar.markdown(\"Page 2\")\n",
    "\n",
    "Transactions = pd.read_excel('KPMG_VI_New_raw_data_update_final.xlsx',sheet_name= 'Transactions')\n",
    "Transactions.columns = Transactions.iloc[0,:]\n",
    "Transactions  = Transactions.iloc[1:,:]\n",
    "Transactions.dropna(subset=['product_first_sold_date'], inplace=True)\n",
    "Transactions.product_first_sold_date = Transactions.product_first_sold_date.apply(lambda x: datetime.fromtimestamp(x))\n",
    "Transactions.transaction_date = Transactions.transaction_date.astype('string')\n",
    "Transactions['transaction_month'] = Transactions.transaction_date.apply(lambda x: x[5:7])\n",
    "# brand count\n",
    "st.write('- Each brand has different marketing strategy and target populations, their sales statistics are hence different.')\n",
    "st.write('- Understanding these difference is important when organizing any business activities.')\n",
    "\n",
    "Tran_counts = Transactions.groupby(['brand'],as_index=False)['list_price'].count()\n",
    "Tran_counts.columns = ['brand', 'count']\n",
    "# brand revenue\n",
    "Tran_brand = Transactions.groupby(['brand'],as_index=False)[['list_price','standard_cost']].sum()\n",
    "Tran_brand['profit'] = Tran_brand['list_price'] - Tran_brand['standard_cost']\n",
    "Tran_brand = Tran_brand.merge(Tran_counts, on = ['brand'])\n",
    "Tran_brand['list_price_avg'] = Tran_brand['list_price'] / Tran_brand['count']\n",
    "Tran_brand['profit_avg'] = Tran_brand['profit'] / Tran_brand['count']\n",
    "Tran_brand['profit_rate'] = 1- Tran_brand['standard_cost']/Tran_brand['list_price']\n",
    "Tran_brand\n",
    "\n",
    "# Customer payment count\n",
    "CustomerAddress = pd.read_excel('KPMG_VI_New_raw_data_update_final.xlsx',sheet_name= 'CustomerAddress')\n",
    "CustomerAddress.columns = CustomerAddress.iloc[0,:]\n",
    "CustomerAddress  = CustomerAddress.iloc[1:,:]\n",
    "Customer_counts = Transactions.groupby(['customer_id'],as_index=False)['list_price'].count()\n",
    "Customer_counts.columns = ['customer_id', 'bill_count']\n",
    "# Customer payment revenue\n",
    "Cutomer_brand = Transactions.groupby(['customer_id'],as_index=False)[['list_price','standard_cost']].sum()\n",
    "Cutomer_brand['profit'] = Cutomer_brand['list_price'] - Cutomer_brand['standard_cost']\n",
    "Cutomer_brand = Cutomer_brand.merge(Customer_counts, on = ['customer_id'])\n",
    "Cutomer_brand['list_price_avg'] = Cutomer_brand['list_price'] / Cutomer_brand['bill_count']\n",
    "Cutomer_brand['profit_avg'] = Cutomer_brand['profit'] / Cutomer_brand['bill_count']\n",
    "Cutomer_brand['profit_rate'] = 1- Cutomer_brand['standard_cost']/Cutomer_brand['list_price']\n",
    "Cutomer_brand = Cutomer_brand.merge(CustomerAddress[['customer_id', 'property_valuation']], on = 'customer_id')\n",
    "st.write('- Pay closely attention to customer purchase frequency as we want to keep our customers and expand their consumptions.')\n",
    "fig, ax = plt.subplots(figsize = (10,6))\n",
    "Cutomer_brand.hist(['bill_count'] )\n",
    "ax.set_title('')\n",
    "st.title('Purchase Frequency Counts')\n",
    "st.pyplot(fig)\n",
    "\n",
    "fig1, ax1 = plt.subplots(figsize = (10,6))\n",
    "Cutomer_brand.plot.scatter(['list_price_avg'], ['profit_avg'], \n",
    "                           figsize = (16,9),\n",
    "                           c = Cutomer_brand.property_valuation,\n",
    "                           ax = ax1\n",
    "                           )\n",
    "ax1.set_title('')\n",
    "st.title('Price versus Profit')\n",
    "st.pyplot(fig1)"
   ]
  },
  {
   "cell_type": "code",
   "execution_count": 10,
   "id": "41050272",
   "metadata": {},
   "outputs": [
    {
     "name": "stderr",
     "output_type": "stream",
     "text": [
      "2023-02-08 21:58:03.586 \n",
      "  \u001b[33m\u001b[1mWarning:\u001b[0m to view this Streamlit app on a browser, run it with the following\n",
      "  command:\n",
      "\n",
      "    streamlit run C:\\Users\\zwdua\\anaconda3\\envs\\STEnv\\lib\\site-packages\\ipykernel_launcher.py [ARGUMENTS]\n"
     ]
    },
    {
     "data": {
      "text/plain": [
       "DeltaGenerator(_root_container=1, _provided_cursor=None, _parent=DeltaGenerator(_root_container=0, _provided_cursor=None, _parent=None, _block_type=None, _form_data=None), _block_type=None, _form_data=None)"
      ]
     },
     "execution_count": 10,
     "metadata": {},
     "output_type": "execute_result"
    }
   ],
   "source": [
    "#%%writefile pages/page_2.py\n",
    "import streamlit as st\n",
    "\n",
    "st.markdown(\"# Page 3 🎉\")\n",
    "st.sidebar.markdown(\"# Page 3 🎉\")"
   ]
  },
  {
   "cell_type": "code",
   "execution_count": 2,
   "id": "19ba70ff",
   "metadata": {},
   "outputs": [
    {
     "name": "stderr",
     "output_type": "stream",
     "text": [
      "'streamlit' is not recognized as an internal or external command,\n",
      "operable program or batch file.\n"
     ]
    }
   ],
   "source": [
    "!streamlit run main_page.py"
   ]
  },
  {
   "cell_type": "code",
   "execution_count": 4,
   "id": "dd3f6b7c",
   "metadata": {},
   "outputs": [
    {
     "name": "stdout",
     "output_type": "stream",
     "text": [
      "Requirement already satisfied: openpyxl in c:\\users\\zwdua\\appdata\\local\\packages\\pythonsoftwarefoundation.python.3.10_qbz5n2kfra8p0\\localcache\\local-packages\\python310\\site-packages (3.0.9)\n",
      "Requirement already satisfied: et-xmlfile in c:\\users\\zwdua\\appdata\\local\\packages\\pythonsoftwarefoundation.python.3.10_qbz5n2kfra8p0\\localcache\\local-packages\\python310\\site-packages (from openpyxl) (1.1.0)\n"
     ]
    },
    {
     "name": "stderr",
     "output_type": "stream",
     "text": [
      "WARNING: Ignoring invalid distribution -ip (c:\\users\\zwdua\\appdata\\local\\packages\\pythonsoftwarefoundation.python.3.10_qbz5n2kfra8p0\\localcache\\local-packages\\python310\\site-packages)\n",
      "WARNING: Ignoring invalid distribution -ensorflow-gpu (c:\\users\\zwdua\\appdata\\local\\packages\\pythonsoftwarefoundation.python.3.10_qbz5n2kfra8p0\\localcache\\local-packages\\python310\\site-packages)\n",
      "WARNING: Ignoring invalid distribution -ip (c:\\users\\zwdua\\appdata\\local\\packages\\pythonsoftwarefoundation.python.3.10_qbz5n2kfra8p0\\localcache\\local-packages\\python310\\site-packages)\n",
      "WARNING: Ignoring invalid distribution -ensorflow-gpu (c:\\users\\zwdua\\appdata\\local\\packages\\pythonsoftwarefoundation.python.3.10_qbz5n2kfra8p0\\localcache\\local-packages\\python310\\site-packages)\n",
      "WARNING: Ignoring invalid distribution -ip (c:\\users\\zwdua\\appdata\\local\\packages\\pythonsoftwarefoundation.python.3.10_qbz5n2kfra8p0\\localcache\\local-packages\\python310\\site-packages)\n",
      "WARNING: Ignoring invalid distribution -ensorflow-gpu (c:\\users\\zwdua\\appdata\\local\\packages\\pythonsoftwarefoundation.python.3.10_qbz5n2kfra8p0\\localcache\\local-packages\\python310\\site-packages)\n",
      "WARNING: Ignoring invalid distribution -ip (c:\\users\\zwdua\\appdata\\local\\packages\\pythonsoftwarefoundation.python.3.10_qbz5n2kfra8p0\\localcache\\local-packages\\python310\\site-packages)\n",
      "WARNING: Ignoring invalid distribution -ensorflow-gpu (c:\\users\\zwdua\\appdata\\local\\packages\\pythonsoftwarefoundation.python.3.10_qbz5n2kfra8p0\\localcache\\local-packages\\python310\\site-packages)\n",
      "WARNING: Ignoring invalid distribution -ip (c:\\users\\zwdua\\appdata\\local\\packages\\pythonsoftwarefoundation.python.3.10_qbz5n2kfra8p0\\localcache\\local-packages\\python310\\site-packages)\n",
      "WARNING: Ignoring invalid distribution -ensorflow-gpu (c:\\users\\zwdua\\appdata\\local\\packages\\pythonsoftwarefoundation.python.3.10_qbz5n2kfra8p0\\localcache\\local-packages\\python310\\site-packages)\n",
      "WARNING: Ignoring invalid distribution -ip (c:\\users\\zwdua\\appdata\\local\\packages\\pythonsoftwarefoundation.python.3.10_qbz5n2kfra8p0\\localcache\\local-packages\\python310\\site-packages)\n",
      "WARNING: Ignoring invalid distribution -ensorflow-gpu (c:\\users\\zwdua\\appdata\\local\\packages\\pythonsoftwarefoundation.python.3.10_qbz5n2kfra8p0\\localcache\\local-packages\\python310\\site-packages)\n",
      "\n",
      "[notice] A new release of pip available: 22.3.1 -> 23.0\n",
      "[notice] To update, run: C:\\Users\\zwdua\\AppData\\Local\\Microsoft\\WindowsApps\\PythonSoftwareFoundation.Python.3.10_qbz5n2kfra8p0\\python.exe -m pip install --upgrade pip\n"
     ]
    }
   ],
   "source": [
    "!pip install openpyxl"
   ]
  },
  {
   "cell_type": "code",
   "execution_count": null,
   "id": "ab1cada8",
   "metadata": {},
   "outputs": [],
   "source": []
  }
 ],
 "metadata": {
  "kernelspec": {
   "display_name": "StreamLit",
   "language": "python",
   "name": "streamlit"
  },
  "language_info": {
   "codemirror_mode": {
    "name": "ipython",
    "version": 3
   },
   "file_extension": ".py",
   "mimetype": "text/x-python",
   "name": "python",
   "nbconvert_exporter": "python",
   "pygments_lexer": "ipython3",
   "version": "3.9.16"
  }
 },
 "nbformat": 4,
 "nbformat_minor": 5
}
